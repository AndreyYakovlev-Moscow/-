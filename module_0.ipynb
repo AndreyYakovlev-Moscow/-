{
 "cells": [
  {
   "cell_type": "code",
   "execution_count": null,
   "metadata": {},
   "outputs": [],
   "source": [
    "def game_core_v2(number):\n",
    "    count = 1\n",
    "    predict = np.random.randint(1,101) # Генерируем случайное число\n",
    "    while number != predict: # Пока загаданное число не равно нашему числу\n",
    "        count+=1 # Увеличиваем счетчик попыток\n",
    "        if number > predict: # Если загаданное число больше нашего\n",
    "            predict = predict + (number - predict) # Увеличиваем наше число\n",
    "        elif number < predict: # Если загаданное число меньше нашего\n",
    "            predict = predict-(predict-number) # Уменьшаем наше число\n",
    "    return(count) # выход из цикла, если угадали"
   ]
  }
 ],
 "metadata": {
  "kernelspec": {
   "display_name": "Python 3",
   "language": "python",
   "name": "python3"
  },
  "language_info": {
   "codemirror_mode": {
    "name": "ipython",
    "version": 3
   },
   "file_extension": ".py",
   "mimetype": "text/x-python",
   "name": "python",
   "nbconvert_exporter": "python",
   "pygments_lexer": "ipython3",
   "version": "3.8.5"
  }
 },
 "nbformat": 4,
 "nbformat_minor": 4
}
